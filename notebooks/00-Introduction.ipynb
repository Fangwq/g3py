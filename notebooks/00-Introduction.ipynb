{
 "cells": [
  {
   "cell_type": "markdown",
   "metadata": {},
   "source": [
    "# G3Py: Tutoriales\n",
    "\n",
    "1. [Gaussian Processes](01-Gaussian-Processes.ipynb)\n",
    "2. [Hyperparameters](02-Hyperparameters.ipynb)\n",
    "3. [Kernels](03-Kernels.ipynb)\n",
    "4. [Random-Fields](04-Random-Fields.ipynb)\n",
    "5. [Pushforward](05-Pushforward.ipynb)\n",
    "6. [Copulas](06-Copulas.ipynb)\n",
    "7. [Multi-Output](07-Multi-Output.ipynb)\n",
    "8. [Graphical-Models](08-Graphical-Models.ipynb)"
   ]
  },
  {
   "cell_type": "code",
   "execution_count": null,
   "metadata": {
    "collapsed": true
   },
   "outputs": [],
   "source": []
  }
 ],
 "metadata": {
  "anaconda-cloud": {},
  "kernelspec": {
   "display_name": "Python [conda root]",
   "language": "python",
   "name": "conda-root-py"
  },
  "language_info": {
   "codemirror_mode": {
    "name": "ipython",
    "version": 3
   },
   "file_extension": ".py",
   "mimetype": "text/x-python",
   "name": "python",
   "nbconvert_exporter": "python",
   "pygments_lexer": "ipython3",
   "version": "3.5.2"
  }
 },
 "nbformat": 4,
 "nbformat_minor": 1
}
