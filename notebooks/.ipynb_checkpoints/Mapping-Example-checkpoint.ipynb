{
 "cells": [
  {
   "cell_type": "code",
   "execution_count": 1,
   "metadata": {
    "collapsed": false,
    "nbpresent": {
     "id": "49f7322c-3f20-4326-a176-f4b41ca01872"
    }
   },
   "outputs": [
    {
     "data": {
      "text/html": [
       "<style>\n",
       "                .widget-label { min-width: 30ex !important; }\n",
       "                .widget-hslider { min-width:100%}\n",
       "            </style>"
      ],
      "text/plain": [
       "<IPython.core.display.HTML object>"
      ]
     },
     "metadata": {},
     "output_type": "display_data"
    }
   ],
   "source": [
    "%reload_ext autoreload\n",
    "%autoreload 2\n",
    "%matplotlib inline\n",
    "import numpy as np\n",
    "import scipy as sp\n",
    "import pandas as pd\n",
    "import theano as th\n",
    "import theano.tensor as tt\n",
    "import statsmodels.api as sm\n",
    "import matplotlib.pyplot as plt\n",
    "import seaborn as sb\n",
    "import g3py as g3\n",
    "import pymc3 as pm\n",
    "\n",
    "g3.style_seaborn()\n",
    "#g3.style_normal()\n",
    "#g3.style_big()\n",
    "#g3.style_big_seaborn()\n",
    "g3.style_widget()\n",
    "\n",
    "\n",
    "th.config.NanGuardMode.big_is_error = False\n",
    "#th.config.mode = 'DebugMode'\n",
    "#th.config.mode = 'FAST_RUN'\n",
    "th.config.exception_verbosity = 'high'"
   ]
  },
  {
   "cell_type": "markdown",
   "metadata": {
    "nbpresent": {
     "id": "37cee803-2233-4495-b679-4e57654d1426"
    }
   },
   "source": [
    "# Data"
   ]
  },
  {
   "cell_type": "code",
   "execution_count": 2,
   "metadata": {
    "collapsed": false,
    "nbpresent": {
     "id": "08ed10bc-5ca9-456e-8d1e-d19f8b403654"
    },
    "scrolled": true
   },
   "outputs": [
    {
     "name": "stdout",
     "output_type": "stream",
     "text": [
      "+-------+-------------------+\n",
      "| co2   | R Documentation   |\n",
      "+-------+-------------------+\n",
      "\n",
      "Mauna Loa Atmospheric CO2 Concentration\n",
      "---------------------------------------\n",
      "\n",
      "Description\n",
      "~~~~~~~~~~~\n",
      "\n",
      "Atmospheric concentrations of CO\\ *2* are expressed in parts per million\n",
      "(ppm) and reported in the preliminary 1997 SIO manometric mole fraction\n",
      "scale.\n",
      "\n",
      "Usage\n",
      "~~~~~\n",
      "\n",
      "::\n",
      "\n",
      "    co2\n",
      "\n",
      "Format\n",
      "~~~~~~\n",
      "\n",
      "A time series of 468 observations; monthly from 1959 to 1997.\n",
      "\n",
      "Details\n",
      "~~~~~~~\n",
      "\n",
      "The values for February, March and April of 1964 were missing and have\n",
      "been obtained by interpolating linearly between the values for January\n",
      "and May of 1964.\n",
      "\n",
      "Source\n",
      "~~~~~~\n",
      "\n",
      "Keeling, C. D. and Whorf, T. P., Scripps Institution of Oceanography\n",
      "(SIO), University of California, La Jolla, California USA 92093-0220.\n",
      "\n",
      "`ftp://cdiac.esd.ornl.gov/pub/maunaloa-co2/maunaloa.co2 <ftp://cdiac.esd.ornl.gov/pub/maunaloa-co2/maunaloa.co2>`__.\n",
      "\n",
      "References\n",
      "~~~~~~~~~~\n",
      "\n",
      "Cleveland, W. S. (1993) *Visualizing Data*. New Jersey: Summit Press.\n",
      "\n",
      "Examples\n",
      "~~~~~~~~\n",
      "\n",
      "::\n",
      "\n",
      "    require(graphics)\n",
      "    plot(co2, ylab = expression(\"Atmospheric concentration of CO\"[2]),\n",
      "         las = 1)\n",
      "    title(main = \"co2 data set\")\n",
      "\n",
      "\n"
     ]
    }
   ],
   "source": [
    "#x, y = g3.load_sunspots()\n",
    "x, y = g3.load_co2()\n",
    "x = x-x[0]"
   ]
  },
  {
   "cell_type": "code",
   "execution_count": 3,
   "metadata": {
    "collapsed": false
   },
   "outputs": [
    {
     "name": "stdout",
     "output_type": "stream",
     "text": [
      "Total: 468 | Obs: 117 (25.0%)\n"
     ]
    }
   ],
   "source": [
    "obs_j, x_obs, y_obs, test_j, x_test, y_test = g3.random_obs(x, y, 0.5, 0.5)"
   ]
  },
  {
   "cell_type": "code",
   "execution_count": 4,
   "metadata": {
    "collapsed": false,
    "scrolled": true
   },
   "outputs": [
    {
     "ename": "NameError",
     "evalue": "name 'gp' is not defined",
     "output_type": "error",
     "traceback": [
      "\u001b[0;31m---------------------------------------------------------------------------\u001b[0m",
      "\u001b[0;31mNameError\u001b[0m                                 Traceback (most recent call last)",
      "\u001b[0;32m<ipython-input-4-45aa4efd23e3>\u001b[0m in \u001b[0;36m<module>\u001b[0;34m()\u001b[0m\n\u001b[1;32m      4\u001b[0m     \u001b[0mtrans\u001b[0m \u001b[0;34m=\u001b[0m \u001b[0mg3\u001b[0m\u001b[0;34m.\u001b[0m\u001b[0mIdentity\u001b[0m\u001b[0;34m(\u001b[0m\u001b[0my_obs\u001b[0m\u001b[0;34m)\u001b[0m \u001b[0;34m@\u001b[0m \u001b[0mg3\u001b[0m\u001b[0;34m.\u001b[0m\u001b[0mLogShifted\u001b[0m\u001b[0;34m(\u001b[0m\u001b[0my_obs\u001b[0m\u001b[0;34m)\u001b[0m\u001b[0;34m\u001b[0m\u001b[0m\n\u001b[1;32m      5\u001b[0m     \u001b[0mtgp\u001b[0m \u001b[0;34m=\u001b[0m \u001b[0mg3\u001b[0m\u001b[0;34m.\u001b[0m\u001b[0mTGP\u001b[0m\u001b[0;34m(\u001b[0m\u001b[0mx\u001b[0m\u001b[0;34m,\u001b[0m \u001b[0mmean\u001b[0m\u001b[0;34m,\u001b[0m \u001b[0mker\u001b[0m\u001b[0;34m,\u001b[0m \u001b[0mtrans\u001b[0m\u001b[0;34m,\u001b[0m \u001b[0mnoise\u001b[0m\u001b[0;34m=\u001b[0m\u001b[0;32mTrue\u001b[0m\u001b[0;34m,\u001b[0m \u001b[0mhidden\u001b[0m\u001b[0;34m=\u001b[0m\u001b[0my\u001b[0m\u001b[0;34m)\u001b[0m\u001b[0;34m\u001b[0m\u001b[0m\n\u001b[0;32m----> 6\u001b[0;31m     \u001b[0mgp\u001b[0m\u001b[0;34m.\u001b[0m\u001b[0mdescribe\u001b[0m\u001b[0;34m(\u001b[0m\u001b[0mstr\u001b[0m\u001b[0;34m(\u001b[0m\u001b[0mk\u001b[0m\u001b[0;34m)\u001b[0m\u001b[0;34m,\u001b[0m\u001b[0;34m'SUNACTIVITY'\u001b[0m\u001b[0;34m,\u001b[0m\u001b[0;34m'YEAR'\u001b[0m\u001b[0;34m)\u001b[0m\u001b[0;34m\u001b[0m\u001b[0m\n\u001b[0m\u001b[1;32m      7\u001b[0m     \u001b[0mtgp\u001b[0m\u001b[0;34m.\u001b[0m\u001b[0mobserved\u001b[0m\u001b[0;34m(\u001b[0m\u001b[0mx_obs\u001b[0m\u001b[0;34m,\u001b[0m\u001b[0my_obs\u001b[0m\u001b[0;34m)\u001b[0m\u001b[0;34m\u001b[0m\u001b[0m\n\u001b[1;32m      8\u001b[0m     \u001b[0mtgp\u001b[0m\u001b[0;34m.\u001b[0m\u001b[0mtesting\u001b[0m\u001b[0;34m(\u001b[0m\u001b[0mx_test\u001b[0m\u001b[0;34m,\u001b[0m\u001b[0my_test\u001b[0m\u001b[0;34m)\u001b[0m\u001b[0;34m\u001b[0m\u001b[0m\n",
      "\u001b[0;31mNameError\u001b[0m: name 'gp' is not defined"
     ]
    }
   ],
   "source": [
    "with g3.Model() as model:\n",
    "    mean = g3.Bias()\n",
    "    ker = g3.SE(x)\n",
    "    trans = g3.Identity(y_obs) @ g3.LogShifted(y_obs)\n",
    "    tgp = g3.TGP(x, mean, ker, trans, noise=True, hidden=y)\n",
    "    tgp.describe(str(k),'SUNACTIVITY','YEAR')\n",
    "    tgp.observed(x_obs,y_obs)\n",
    "    tgp.testing(x_test,y_test)\n",
    "    tgp.compile()\n",
    "#gp.plot_gp(gp.find_default(), samples=10)"
   ]
  },
  {
   "cell_type": "code",
   "execution_count": null,
   "metadata": {
    "collapsed": false,
    "scrolled": true
   },
   "outputs": [],
   "source": [
    "trans.hypers"
   ]
  },
  {
   "cell_type": "code",
   "execution_count": null,
   "metadata": {
    "collapsed": true
   },
   "outputs": [],
   "source": []
  },
  {
   "cell_type": "code",
   "execution_count": null,
   "metadata": {
    "collapsed": false
   },
   "outputs": [],
   "source": [
    "_ = plt.plot(gp.compiles['covariance'](**gp.get_params())[0])\n",
    "_ = plt.plot(gp.compiles['covariance'](**gp.get_params())[len(x)//2])\n",
    "_ = plt.plot(gp.compiles['covariance'](**gp.get_params())[-1])"
   ]
  },
  {
   "cell_type": "code",
   "execution_count": null,
   "metadata": {
    "collapsed": false
   },
   "outputs": [],
   "source": [
    "points = gp.find_MAP(points=6, plot=True, samples=10)"
   ]
  },
  {
   "cell_type": "code",
   "execution_count": null,
   "metadata": {
    "collapsed": false
   },
   "outputs": [],
   "source": [
    "with g3.Model() as model:\n",
    "    m = g3.Bias()\n",
    "    k = g3.PER(x)# + g3.SE(x)\n",
    "    gp = g3.GP(x, m, k, noise=True, hidden=y)\n",
    "    gp.describe(str(k),'SUNACTIVITY','YEAR')\n",
    "    gp.observed(x_obs,y_obs)\n",
    "    gp.testing(x_test,y_test)\n",
    "    gp.compile()\n",
    "gp.plot_gp(gp.find_default(), samples=3)"
   ]
  },
  {
   "cell_type": "code",
   "execution_count": null,
   "metadata": {
    "collapsed": false
   },
   "outputs": [],
   "source": [
    "gp.widget_params()"
   ]
  },
  {
   "cell_type": "code",
   "execution_count": null,
   "metadata": {
    "collapsed": false
   },
   "outputs": [],
   "source": [
    "points = gp.find_MAP(start=gp.get_params(),points=6, plot=True, samples=3)"
   ]
  },
  {
   "cell_type": "code",
   "execution_count": null,
   "metadata": {
    "collapsed": false
   },
   "outputs": [],
   "source": [
    "with g3.Model() as model:\n",
    "    m = g3.Bias()\n",
    "    k = g3.SM(x)\n",
    "    gp = g3.GP(x, m, k, noise=True, hidden=y)\n",
    "    gp.describe(str(k),'SUNACTIVITY','YEAR')\n",
    "    gp.observed(x_obs,y_obs)\n",
    "    gp.testing(x_test,y_test)\n",
    "    gp.compile()\n",
    "gp.plot_gp(gp.find_default(), samples=3)"
   ]
  },
  {
   "cell_type": "code",
   "execution_count": null,
   "metadata": {
    "collapsed": false
   },
   "outputs": [],
   "source": [
    "gp.widget_params()"
   ]
  },
  {
   "cell_type": "code",
   "execution_count": null,
   "metadata": {
    "collapsed": false
   },
   "outputs": [],
   "source": [
    "points = gp.find_MAP(start=gp.get_params(),points=6, plot=True, samples=3)"
   ]
  },
  {
   "cell_type": "code",
   "execution_count": null,
   "metadata": {
    "collapsed": false
   },
   "outputs": [],
   "source": [
    "with g3.Model() as model:\n",
    "    m = g3.Bias()\n",
    "    k = g3.SM(x, name='SM1')+g3.SM(x, name='SM2')\n",
    "    gp = g3.GP(x, m, k, noise=True, hidden=y)\n",
    "    gp.describe(str(k),'SUNACTIVITY','YEAR')\n",
    "    gp.observed(x_obs,y_obs)\n",
    "    gp.testing(x_test,y_test)\n",
    "    gp.compile()\n",
    "gp.plot_gp(gp.find_default(), samples=3)"
   ]
  },
  {
   "cell_type": "code",
   "execution_count": null,
   "metadata": {
    "collapsed": false
   },
   "outputs": [],
   "source": [
    "gp.widget_params()"
   ]
  },
  {
   "cell_type": "code",
   "execution_count": null,
   "metadata": {
    "collapsed": false
   },
   "outputs": [],
   "source": [
    "points = gp.find_MAP(start=gp.get_params(),points=6, plot=True, samples=3)"
   ]
  },
  {
   "cell_type": "code",
   "execution_count": null,
   "metadata": {
    "collapsed": false
   },
   "outputs": [],
   "source": [
    "name, logp, params = points[-3]"
   ]
  },
  {
   "cell_type": "code",
   "execution_count": null,
   "metadata": {
    "collapsed": false,
    "nbpresent": {
     "id": "20e7d5be-f39a-4976-b3df-548fb5c05322"
    }
   },
   "outputs": [],
   "source": [
    "traces = gp.sample_hypers(params, samples=10000,advi=False)"
   ]
  },
  {
   "cell_type": "code",
   "execution_count": null,
   "metadata": {
    "collapsed": false
   },
   "outputs": [],
   "source": [
    "g3.save_trace(traces)"
   ]
  },
  {
   "cell_type": "code",
   "execution_count": null,
   "metadata": {
    "collapsed": false
   },
   "outputs": [],
   "source": [
    "traces.varnames.clear()\n",
    "for v in gp.model.vars:\n",
    "    traces.varnames.append(v.name)\n",
    "traces.varnames"
   ]
  },
  {
   "cell_type": "code",
   "execution_count": null,
   "metadata": {
    "collapsed": false,
    "scrolled": true
   },
   "outputs": [],
   "source": [
    "g3.style_seaborn()\n",
    "g3.traceplot(traces, plot_transformed=True)"
   ]
  },
  {
   "cell_type": "code",
   "execution_count": null,
   "metadata": {
    "collapsed": false
   },
   "outputs": [],
   "source": [
    "datatraces = g3.datatrace(model, traces)\n",
    "g3.save_datatrace(datatraces)\n",
    "datatraces.describe().T"
   ]
  },
  {
   "cell_type": "code",
   "execution_count": null,
   "metadata": {
    "collapsed": false
   },
   "outputs": [],
   "source": [
    "items_ll = ['niter','ll']\n",
    "items_k1 = ['GP_SM1_M','GP_SM1_S_log_','GP_SM1_Var_log_']\n",
    "items_k2 = ['GP_SM3_M','GP_SM2_S_log_','GP_SM2_Var_log_']\n",
    "items_m = ['GP_Bias_Constant','GP_Noise_Var_log_']\n",
    "\n",
    "g3.plot_datatrace(datatraces,items_ll+items_k1)\n",
    "g3.plot_datatrace(datatraces,items_ll+items_k2)\n",
    "g3.plot_datatrace(datatraces,items_ll+items_m)\n",
    "\n",
    "\n",
    "g3.plot_datatrace(datatraces,items_k1+items_k2)\n",
    "g3.plot_datatrace(datatraces,items_k1+items_m)\n",
    "g3.plot_datatrace(datatraces,items_k2+items_m)\n",
    "\n",
    "\n"
   ]
  },
  {
   "cell_type": "code",
   "execution_count": null,
   "metadata": {
    "collapsed": false
   },
   "outputs": [],
   "source": [
    "gp.widget_trace(traces)"
   ]
  },
  {
   "cell_type": "code",
   "execution_count": null,
   "metadata": {
    "collapsed": true
   },
   "outputs": [],
   "source": [
    "tgp.plot_tgp(tgp.get_params(), samples=10)"
   ]
  },
  {
   "cell_type": "code",
   "execution_count": null,
   "metadata": {
    "collapsed": true
   },
   "outputs": [],
   "source": []
  },
  {
   "cell_type": "code",
   "execution_count": null,
   "metadata": {
    "collapsed": true
   },
   "outputs": [],
   "source": []
  },
  {
   "cell_type": "code",
   "execution_count": null,
   "metadata": {
    "collapsed": true
   },
   "outputs": [],
   "source": []
  },
  {
   "cell_type": "code",
   "execution_count": null,
   "metadata": {
    "collapsed": true
   },
   "outputs": [],
   "source": []
  }
 ],
 "metadata": {
  "anaconda-cloud": {},
  "kernelspec": {
   "display_name": "Python [default]",
   "language": "python",
   "name": "python3"
  },
  "language_info": {
   "codemirror_mode": {
    "name": "ipython",
    "version": 3
   },
   "file_extension": ".py",
   "mimetype": "text/x-python",
   "name": "python",
   "nbconvert_exporter": "python",
   "pygments_lexer": "ipython3",
   "version": "3.5.2"
  },
  "nbpresent": {
   "slides": {
    "0a08a37f-4ac1-4234-9515-85f34b21ce25": {
     "id": "0a08a37f-4ac1-4234-9515-85f34b21ce25",
     "prev": "bdd1bde8-df29-4081-b8a3-2ce5a5228b5e",
     "regions": {
      "969621c2-7794-4c02-a480-12d0baf30d79": {
       "attrs": {
        "height": 0.8,
        "width": 0.8,
        "x": 0.1,
        "y": 0.1
       },
       "content": {
        "cell": "08ed10bc-5ca9-456e-8d1e-d19f8b403654",
        "part": "whole"
       },
       "id": "969621c2-7794-4c02-a480-12d0baf30d79"
      }
     }
    },
    "15a5ec2b-03fa-4bb0-95bb-e3b1c0ca8023": {
     "id": "15a5ec2b-03fa-4bb0-95bb-e3b1c0ca8023",
     "prev": "71dbd784-4e2d-4704-8fef-38a34839824d",
     "regions": {
      "e6651839-23e7-43aa-8ac1-6ffbea64c1e9": {
       "attrs": {
        "height": 0.8,
        "width": 0.8,
        "x": 0.1,
        "y": 0.1
       },
       "content": {
        "cell": "c3b550c5-050b-45eb-bffc-a844a1fe83c8",
        "part": "whole"
       },
       "id": "e6651839-23e7-43aa-8ac1-6ffbea64c1e9"
      }
     }
    },
    "1936b25f-1f73-446f-a206-302228b7ac53": {
     "id": "1936b25f-1f73-446f-a206-302228b7ac53",
     "prev": "dd6adc74-f086-4350-9e7f-198043108006",
     "regions": {
      "53535c66-12c7-4924-adbd-f7b797912a6d": {
       "attrs": {
        "height": 0.8,
        "width": 0.8,
        "x": 0.1,
        "y": 0.1
       },
       "content": {
        "cell": "d2573a7c-5ed3-4516-8662-a1762ee41eca",
        "part": "whole"
       },
       "id": "53535c66-12c7-4924-adbd-f7b797912a6d"
      }
     }
    },
    "21337722-5f5f-4136-9b84-322e291ced00": {
     "id": "21337722-5f5f-4136-9b84-322e291ced00",
     "prev": "0a08a37f-4ac1-4234-9515-85f34b21ce25",
     "regions": {
      "35a52942-2996-46d1-984a-705ff2fa182d": {
       "attrs": {
        "height": 0.8,
        "width": 0.8,
        "x": 0.1,
        "y": 0.1
       },
       "content": {
        "cell": "8d6da724-14b5-4e29-84bf-57c2bc4bb421",
        "part": "whole"
       },
       "id": "35a52942-2996-46d1-984a-705ff2fa182d"
      }
     }
    },
    "23057687-f9a6-498e-9686-dca8bce6d178": {
     "id": "23057687-f9a6-498e-9686-dca8bce6d178",
     "prev": "6523ab63-4436-4842-be6a-835aa3ba099d",
     "regions": {
      "411cfd21-c39d-42f5-afcb-bd93e67a274f": {
       "attrs": {
        "height": 0.8,
        "width": 0.8,
        "x": 0.1,
        "y": 0.1
       },
       "content": {
        "cell": "60aec984-26a3-4ad3-9407-cc6f3917f2f7",
        "part": "whole"
       },
       "id": "411cfd21-c39d-42f5-afcb-bd93e67a274f"
      }
     }
    },
    "3e188cfd-27d9-4174-ae15-302516b06e82": {
     "id": "3e188cfd-27d9-4174-ae15-302516b06e82",
     "prev": "3f135657-1d78-4407-b603-9378fda14037",
     "regions": {
      "71dd3e6a-b38d-4419-87b7-771e129f24cd": {
       "attrs": {
        "height": 0.8,
        "width": 0.8,
        "x": 0.1,
        "y": 0.1
       },
       "content": {
        "cell": "988b09ff-65e9-4982-86ad-9aced3620217",
        "part": "whole"
       },
       "id": "71dd3e6a-b38d-4419-87b7-771e129f24cd"
      }
     }
    },
    "3f135657-1d78-4407-b603-9378fda14037": {
     "id": "3f135657-1d78-4407-b603-9378fda14037",
     "prev": "21337722-5f5f-4136-9b84-322e291ced00",
     "regions": {
      "76a7ba83-0673-40ff-a4b8-5d4f74cf0551": {
       "attrs": {
        "height": 0.8,
        "width": 0.8,
        "x": 0.1,
        "y": 0.1
       },
       "content": {
        "cell": "5dfa962c-cbbb-46ba-a766-795dcce2a6c0",
        "part": "whole"
       },
       "id": "76a7ba83-0673-40ff-a4b8-5d4f74cf0551"
      }
     }
    },
    "452e8381-858c-462e-8c71-295547e9b3d5": {
     "id": "452e8381-858c-462e-8c71-295547e9b3d5",
     "prev": "d6eec2aa-62be-44bb-bbf0-1776778ddf28",
     "regions": {
      "575ccc32-bcb3-43a4-918e-edd20d18f783": {
       "attrs": {
        "height": 0.8,
        "width": 0.8,
        "x": 0.1,
        "y": 0.1
       },
       "content": {
        "cell": "e8a09fde-8b2d-4894-a312-ffc778ddaa9a",
        "part": "whole"
       },
       "id": "575ccc32-bcb3-43a4-918e-edd20d18f783"
      }
     }
    },
    "5305b925-14c7-45bf-b4ba-612c3f2886b4": {
     "id": "5305b925-14c7-45bf-b4ba-612c3f2886b4",
     "prev": "3e188cfd-27d9-4174-ae15-302516b06e82",
     "regions": {
      "71e03b45-2e73-4961-ad66-03526c3adad9": {
       "attrs": {
        "height": 0.8,
        "width": 0.8,
        "x": 0.1,
        "y": 0.1
       },
       "content": {
        "cell": "389da743-01cd-40fd-aadc-6c347580e3c9",
        "part": "whole"
       },
       "id": "71e03b45-2e73-4961-ad66-03526c3adad9"
      }
     }
    },
    "61395c40-fb8a-42a5-a440-033f547af0ef": {
     "id": "61395c40-fb8a-42a5-a440-033f547af0ef",
     "prev": "15a5ec2b-03fa-4bb0-95bb-e3b1c0ca8023",
     "regions": {
      "778133b6-69f8-41ec-b34d-0cad19c52727": {
       "attrs": {
        "height": 0.8,
        "width": 0.8,
        "x": 0.1,
        "y": 0.1
       },
       "content": {
        "cell": "f5332ca5-eeec-4dd3-9e5c-1630b296e404",
        "part": "whole"
       },
       "id": "778133b6-69f8-41ec-b34d-0cad19c52727"
      }
     }
    },
    "6523ab63-4436-4842-be6a-835aa3ba099d": {
     "id": "6523ab63-4436-4842-be6a-835aa3ba099d",
     "prev": "de87f690-8f62-468d-ab5c-3835a126b5fa",
     "regions": {
      "444de729-8834-4a33-9cb2-3f9c36cd8568": {
       "attrs": {
        "height": 0.8,
        "width": 0.8,
        "x": 0.1,
        "y": 0.1
       },
       "content": {
        "cell": "f24d5449-1900-4b62-aeb3-4d89c6b4b41f",
        "part": "whole"
       },
       "id": "444de729-8834-4a33-9cb2-3f9c36cd8568"
      }
     }
    },
    "71dbd784-4e2d-4704-8fef-38a34839824d": {
     "id": "71dbd784-4e2d-4704-8fef-38a34839824d",
     "prev": "e383f821-b74a-42b9-b933-b8d650efbba2",
     "regions": {
      "1a4ca137-648e-4bef-8dd5-63db9e805fcf": {
       "attrs": {
        "height": 0.8,
        "width": 0.8,
        "x": 0.1,
        "y": 0.1
       },
       "content": {
        "cell": "fb9e4435-43d8-4a61-a435-c857a7cc231d",
        "part": "whole"
       },
       "id": "1a4ca137-648e-4bef-8dd5-63db9e805fcf"
      }
     }
    },
    "79b1c0ca-679f-488b-9666-2ae7823ca825": {
     "id": "79b1c0ca-679f-488b-9666-2ae7823ca825",
     "prev": "92dc2fda-032a-49ff-a34f-fda2fa3e8f6d",
     "regions": {
      "d5437575-74eb-4ca2-9299-3192ed880eb3": {
       "attrs": {
        "height": 0.8,
        "width": 0.8,
        "x": 0.1,
        "y": 0.1
       },
       "content": {
        "cell": "90cdc29d-082d-46c5-b580-deed14a2f866",
        "part": "whole"
       },
       "id": "d5437575-74eb-4ca2-9299-3192ed880eb3"
      }
     }
    },
    "7d05559f-a425-4217-abca-302cf83184eb": {
     "id": "7d05559f-a425-4217-abca-302cf83184eb",
     "prev": "e3b12efe-2e2d-4e3d-830d-15c57b1ca3de",
     "regions": {
      "31111ca7-a01c-465b-ae22-7f3d3477b571": {
       "attrs": {
        "height": 0.8,
        "width": 0.8,
        "x": 0.1,
        "y": 0.1
       },
       "content": {
        "cell": "0f0869bf-c857-4290-ae4e-f077e62a56b7",
        "part": "whole"
       },
       "id": "31111ca7-a01c-465b-ae22-7f3d3477b571"
      }
     }
    },
    "873d1584-ad10-4d78-80d2-5b9112ba3510": {
     "id": "873d1584-ad10-4d78-80d2-5b9112ba3510",
     "prev": "452e8381-858c-462e-8c71-295547e9b3d5",
     "regions": {
      "9c64736a-b40e-4ee7-b1e1-f72b55dd82a7": {
       "attrs": {
        "height": 0.8,
        "width": 0.8,
        "x": 0.1,
        "y": 0.1
       },
       "content": {
        "cell": "ead16b1c-42d8-4719-a2f8-26ba33365813",
        "part": "whole"
       },
       "id": "9c64736a-b40e-4ee7-b1e1-f72b55dd82a7"
      }
     }
    },
    "91e2a5d2-58cf-4344-af2d-8d0ad878ee64": {
     "id": "91e2a5d2-58cf-4344-af2d-8d0ad878ee64",
     "prev": null,
     "regions": {
      "e530163e-2341-47b2-ab31-7c4e9760bb41": {
       "attrs": {
        "height": 0.8,
        "width": 0.8,
        "x": 0.1,
        "y": 0.1
       },
       "content": {
        "cell": "49f7322c-3f20-4326-a176-f4b41ca01872",
        "part": "whole"
       },
       "id": "e530163e-2341-47b2-ab31-7c4e9760bb41"
      }
     }
    },
    "92dc2fda-032a-49ff-a34f-fda2fa3e8f6d": {
     "id": "92dc2fda-032a-49ff-a34f-fda2fa3e8f6d",
     "prev": "1936b25f-1f73-446f-a206-302228b7ac53",
     "regions": {
      "7e20f2e5-407e-448b-830d-b1c5ea1d31bb": {
       "attrs": {
        "height": 0.8,
        "width": 0.8,
        "x": 0.1,
        "y": 0.1
       },
       "content": {
        "cell": "f2803bf9-e967-47dc-a022-79dc51a46b46",
        "part": "whole"
       },
       "id": "7e20f2e5-407e-448b-830d-b1c5ea1d31bb"
      }
     }
    },
    "a49220c3-c455-4de2-9d93-4d59bb623597": {
     "id": "a49220c3-c455-4de2-9d93-4d59bb623597",
     "prev": "23057687-f9a6-498e-9686-dca8bce6d178",
     "regions": {
      "d8760fef-aa09-4dbe-a741-779ef5922313": {
       "attrs": {
        "height": 0.8,
        "width": 0.8,
        "x": 0.1,
        "y": 0.1
       },
       "content": {
        "cell": "20e7d5be-f39a-4976-b3df-548fb5c05322",
        "part": "whole"
       },
       "id": "d8760fef-aa09-4dbe-a741-779ef5922313"
      }
     }
    },
    "bdd1bde8-df29-4081-b8a3-2ce5a5228b5e": {
     "id": "bdd1bde8-df29-4081-b8a3-2ce5a5228b5e",
     "prev": "91e2a5d2-58cf-4344-af2d-8d0ad878ee64",
     "regions": {
      "b9f09143-e71a-45e0-a2ae-9f86c46b90bb": {
       "attrs": {
        "height": 0.8,
        "width": 0.8,
        "x": 0.1,
        "y": 0.1
       },
       "content": {
        "cell": "37cee803-2233-4495-b679-4e57654d1426",
        "part": "whole"
       },
       "id": "b9f09143-e71a-45e0-a2ae-9f86c46b90bb"
      }
     }
    },
    "d6eec2aa-62be-44bb-bbf0-1776778ddf28": {
     "id": "d6eec2aa-62be-44bb-bbf0-1776778ddf28",
     "prev": "5305b925-14c7-45bf-b4ba-612c3f2886b4",
     "regions": {
      "419803d5-7a7a-4d1d-970d-8384df43ed89": {
       "attrs": {
        "height": 0.8,
        "width": 0.8,
        "x": 0.1,
        "y": 0.1
       },
       "content": {
        "cell": "bf4133e4-34c6-426a-8ce5-9c277b6f5596",
        "part": "whole"
       },
       "id": "419803d5-7a7a-4d1d-970d-8384df43ed89"
      }
     }
    },
    "dd6adc74-f086-4350-9e7f-198043108006": {
     "id": "dd6adc74-f086-4350-9e7f-198043108006",
     "prev": "873d1584-ad10-4d78-80d2-5b9112ba3510",
     "regions": {
      "483325ef-4f5f-47ec-b363-f7477632d63e": {
       "attrs": {
        "height": 0.8,
        "width": 0.8,
        "x": 0.1,
        "y": 0.1
       },
       "content": {
        "cell": "c8bf1e82-e5dc-40f4-8f7b-9dcebe109684",
        "part": "whole"
       },
       "id": "483325ef-4f5f-47ec-b363-f7477632d63e"
      }
     }
    },
    "de87f690-8f62-468d-ab5c-3835a126b5fa": {
     "id": "de87f690-8f62-468d-ab5c-3835a126b5fa",
     "prev": "7d05559f-a425-4217-abca-302cf83184eb",
     "regions": {
      "f0fdde3a-1f5d-4db0-ae13-d5b7238a62cf": {
       "attrs": {
        "height": 0.8,
        "width": 0.8,
        "x": 0.1,
        "y": 0.1
       },
       "content": {
        "cell": "d3276163-56e5-4466-8ec7-897143090366",
        "part": "whole"
       },
       "id": "f0fdde3a-1f5d-4db0-ae13-d5b7238a62cf"
      }
     }
    },
    "e383f821-b74a-42b9-b933-b8d650efbba2": {
     "id": "e383f821-b74a-42b9-b933-b8d650efbba2",
     "prev": "79b1c0ca-679f-488b-9666-2ae7823ca825",
     "regions": {
      "566f2cf8-10a0-4726-bdd8-1ad2d1103dc1": {
       "attrs": {
        "height": 0.8,
        "width": 0.8,
        "x": 0.1,
        "y": 0.1
       },
       "content": {
        "cell": "36849bbb-cda6-4fa9-b0af-b79b7c8c9d79",
        "part": "whole"
       },
       "id": "566f2cf8-10a0-4726-bdd8-1ad2d1103dc1"
      }
     }
    },
    "e3b12efe-2e2d-4e3d-830d-15c57b1ca3de": {
     "id": "e3b12efe-2e2d-4e3d-830d-15c57b1ca3de",
     "prev": "f7f38e42-d98a-4409-a35b-e1a57f839616",
     "regions": {
      "5284881d-401d-4873-9e02-d835c21cbf6c": {
       "attrs": {
        "height": 0.8,
        "width": 0.8,
        "x": 0.1,
        "y": 0.1
       },
       "content": {
        "cell": "d541f42c-fd34-463c-9be5-00107d150bad",
        "part": "whole"
       },
       "id": "5284881d-401d-4873-9e02-d835c21cbf6c"
      }
     }
    },
    "f7f38e42-d98a-4409-a35b-e1a57f839616": {
     "id": "f7f38e42-d98a-4409-a35b-e1a57f839616",
     "prev": "61395c40-fb8a-42a5-a440-033f547af0ef",
     "regions": {
      "207a42be-6187-4957-9193-5e25ae6d27f5": {
       "attrs": {
        "height": 0.8,
        "width": 0.8,
        "x": 0.1,
        "y": 0.1
       },
       "content": {
        "cell": "eb1a8d3a-f268-407e-ab81-47fe98811ca2",
        "part": "whole"
       },
       "id": "207a42be-6187-4957-9193-5e25ae6d27f5"
      }
     }
    }
   },
   "themes": {}
  }
 },
 "nbformat": 4,
 "nbformat_minor": 1
}
