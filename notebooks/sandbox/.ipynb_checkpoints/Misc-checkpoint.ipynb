{
 "cells": [
  {
   "cell_type": "markdown",
   "metadata": {},
   "source": [
    "# Priors: Theano Graph"
   ]
  },
  {
   "cell_type": "code",
   "execution_count": null,
   "metadata": {
    "collapsed": true
   },
   "outputs": [],
   "source": [
    "with gp.G3Model() as model:\n",
    "    g3 = gp.G3GP(gp.Constant(), gp.SE(x,gp.ARD_L2), gp.Identity(y))\n",
    "    g3.observed(x_obs,y_obs)\n",
    "    mu, var, median, I_up, I_down, m1, m2 = g3.compilate_functions(model.vars,x)\n",
    "    \n",
    "model.use_prior()\n",
    "gp.show_graph(model.logpt)"
   ]
  },
  {
   "cell_type": "code",
   "execution_count": null,
   "metadata": {
    "collapsed": true
   },
   "outputs": [],
   "source": [
    "gp.show_graph(model.fastlogp.f)"
   ]
  },
  {
   "cell_type": "code",
   "execution_count": null,
   "metadata": {
    "collapsed": true
   },
   "outputs": [],
   "source": [
    "model.use_prior(False)\n",
    "gp.show_graph(model.logpt)"
   ]
  },
  {
   "cell_type": "code",
   "execution_count": null,
   "metadata": {
    "collapsed": true
   },
   "outputs": [],
   "source": [
    "gp.show_graph(model.fastlogp.f)"
   ]
  },
  {
   "cell_type": "markdown",
   "metadata": {},
   "source": [
    "# Mapping"
   ]
  },
  {
   "cell_type": "code",
   "execution_count": null,
   "metadata": {
    "collapsed": true
   },
   "outputs": [],
   "source": [
    "with g3.Model() as model:\n",
    "    mean = g3.Bias()\n",
    "    ker = g3.SE(x)\n",
    "    trans = g3.Identity(y_obs) @ g3.LogShifted(y_obs)\n",
    "    tgp = g3.TGP(x, mean, ker, trans, noise=True, hidden=y)\n",
    "    tgp.describe(str(k),'SUNACTIVITY','YEAR')\n",
    "    tgp.observed(x_obs,y_obs)\n",
    "    tgp.testing(x_test,y_test)\n",
    "    tgp.compile()\n",
    "#gp.plot_gp(gp.find_default(), samples=10)"
   ]
  },
  {
   "cell_type": "markdown",
   "metadata": {},
   "source": [
    "# Transformation\n",
    "http://localhost:8888/notebooks/GaussianProcesses/BoxCoxGP/sunspots-GP-vs-TGP.ipynb"
   ]
  },
  {
   "cell_type": "code",
   "execution_count": null,
   "metadata": {
    "collapsed": true
   },
   "outputs": [],
   "source": [
    "hidden_var = np.linspace(-10,5,501)\n",
    "params = {'ARD_L2_log_': np.array(2.5, dtype=np.float32),\n",
    "         'COV_SE_log_': np.array([ 2, -3 ], dtype=np.float32),\n",
    "         'Mean_Constant': np.array(3.0, dtype=np.float32),\n",
    "         'T_Shift': np.array(0.0, dtype=np.float32),\n",
    "         'T_Power_log_': np.array(-0.4, dtype=np.float32),\n",
    "       }\n",
    "trans, dtrans, dist_gp, dist_tgp = g3.compile_distributions(model.point_to_In(params))\n",
    "params"
   ]
  },
  {
   "cell_type": "code",
   "execution_count": null,
   "metadata": {
    "collapsed": true
   },
   "outputs": [],
   "source": [
    "grilla = np.linspace(-5,15,501)\n",
    "gp.style_normal()\n",
    "plt.figure(1,(10,10))\n",
    "\n",
    "desfase = 5\n",
    "\n",
    "\n",
    "yyy = np.zeros_like(grilla)\n",
    "i = 0\n",
    "for xxx in grilla:\n",
    "    yyy[i] = dist_gp(np.array([xxx]))\n",
    "    i+=1\n",
    "plt.plot(grilla,yyy*50-desfase,label='GaussianDist')\n",
    "\n",
    "\n",
    "plt.plot(trans(grilla),grilla,label='BoxCoxTrans')\n",
    "\n",
    "\n",
    "yyy = np.zeros_like(grilla)\n",
    "i = 0\n",
    "for xxx in trans(grilla):\n",
    "    yyy[i] = dist_gp(np.array([xxx]))\n",
    "    i+=1\n",
    "plt.plot(yyy*30-desfase,grilla,label='BoxCox(Gaussian)')\n",
    "\n",
    "\n",
    "i = 0\n",
    "for xxx in grilla:\n",
    "    yyy[i] = dtrans(np.array([xxx]))\n",
    "    i+=1\n",
    "plt.plot((yyy-np.min(yyy))-desfase,grilla,label='Jacobian(BoxCox)')\n",
    "\n",
    "\n",
    "i = 0\n",
    "for xxx in grilla:\n",
    "    yyy[i] = dist_tgp(np.array([xxx]))\n",
    "    i+=1\n",
    "plt.plot(yyy*40-desfase,grilla,label='BoxCox-GaussianDist')\n",
    "\n",
    "\n",
    "\n",
    "#location_gp = grilla[np.argmax(yyy*100)]\n",
    "#min_gp = np.min(yyy*100)\n",
    "#max_gp = trans(np.array([location_gp]))\n",
    "#plt.plot(np.array([location_gp,location_gp]),np.array([min_gp,max_gp]))\n",
    "\n",
    "\n",
    "\n",
    "gp.plot('Box-Cox Change of Variable','GP','Box-Cox GP',loc=1,ncol=1)\n",
    "plt.axis([-5,12,-5,12])\n",
    "gp.save('change_of_variable.pdf')"
   ]
  },
  {
   "cell_type": "code",
   "execution_count": null,
   "metadata": {
    "collapsed": true
   },
   "outputs": [],
   "source": [
    "import theano.sandbox.linalg as sT\n",
    "trans = tt.log(sT.det(tt.jacobian(g3.mapping.inv(value),value)))\n",
    "ftrans = th.function([value]+model.point_to_In(init),trans,allow_input_downcast=True)\n",
    "yyy = np.zeros_like(grilla)\n",
    "i = 0\n",
    "for xxx in grilla:\n",
    "    yyy[i] = ftrans(np.array([xxx]))\n",
    "    i+=1\n",
    "plt.plot(grilla,yyy)"
   ]
  },
  {
   "cell_type": "code",
   "execution_count": null,
   "metadata": {
    "collapsed": true
   },
   "outputs": [],
   "source": [
    "value,dist = gp.marginal_tgp(np.array([0.0]))\n",
    "fdist = th.function([value]+gp_model.point_to_In(start_bfgs),dist,allow_input_downcast=True)\n",
    "grilla = np.linspace(-200,200,301)\n",
    "yyy = np.zeros_like(grilla)\n",
    "i = 0\n",
    "for xxx in grilla:\n",
    "    yyy[i] = fdist(np.array([xxx]))\n",
    "    i+=1\n",
    "plt.plot(grilla,yyy)"
   ]
  },
  {
   "cell_type": "markdown",
   "metadata": {},
   "source": [
    "# Plot Cov"
   ]
  },
  {
   "cell_type": "code",
   "execution_count": null,
   "metadata": {
    "collapsed": true
   },
   "outputs": [],
   "source": [
    "ker=LaplaceKernel(noise,h,np.array([l]))\n",
    "plt.matshow(ker.cov(x_obs[:,np.newaxis]))\n",
    "plt.matshow(sp.linalg.inv(ker.cov(x_obs[:,np.newaxis])))\n",
    "plt.matshow(CovCholesky(ker.cov(x_obs[:,np.newaxis])))\n",
    "plt.matshow(CovCholesky(ker.cov(x_obs[:,np.newaxis])).T)"
   ]
  },
  {
   "cell_type": "code",
   "execution_count": null,
   "metadata": {
    "collapsed": true
   },
   "outputs": [],
   "source": [
    "#Graficar Covarianza\n",
    "plt.figure(1, figsize=(20,6))\n",
    "Kxx=InfoMatrix(GaussKer,np.expand_dims(np.arange(-2,2,0.1),1))\n",
    "\n",
    "plt.subplot(121)\n",
    "v=np.max(np.abs(Kxx))\n",
    "plt.imshow(Kxx,cmap=cm.seismic,vmax=v,vmin=-v)\n",
    "plt.colorbar()\n",
    "\n",
    "#Graficar Precision\n",
    "plt.subplot(122)\n",
    "Jxx=np.linalg.solve(Kxx,np.eye(len(Kxx)))\n",
    "v=np.max(np.abs(Jxx))\n",
    "plt.imshow(Jxx,cmap=cm.seismic,vmax=v,vmin=-v)\n",
    "plt.colorbar()\n",
    "\n",
    "\n",
    "plt.figure(2, figsize=(20,6))\n",
    "plt.plot(Kxx[len(Kxx)/2,:],'b')\n",
    "plt.plot(Jxx[len(Jxx)/2,:],'r')\n",
    "\n",
    "#plt.axis([550,650,-0.1,14])\n",
    "#show(np.linalg.norm(Jxx.dot(Kxx)- np.eye(len(Kxx))))"
   ]
  },
  {
   "cell_type": "code",
   "execution_count": null,
   "metadata": {
    "collapsed": true
   },
   "outputs": [],
   "source": [
    "_ = plt.plot(gp.compiles['covariance'](**gp.get_params())[0])\n",
    "_ = plt.plot(gp.compiles['covariance'](**gp.get_params())[len(x)//2])\n",
    "_ = plt.plot(gp.compiles['covariance'](**gp.get_params())[-1])"
   ]
  },
  {
   "cell_type": "markdown",
   "metadata": {},
   "source": [
    "# GP 2D\n",
    "http://localhost:8888/notebooks/GaussianProcesses/BoxCoxGP/Presentation-TGP.ipynb"
   ]
  },
  {
   "cell_type": "code",
   "execution_count": null,
   "metadata": {
    "collapsed": true
   },
   "outputs": [],
   "source": [
    "# Parametros grilla\n",
    "x = np.linspace(0, 50, 51)\n",
    "y = np.linspace(0,200, 201)\n",
    "\n",
    "# Parametros GP\n",
    "l = 30\n",
    "sigma = 10*np.log(1.5)\n",
    "gamma_x = 0.0*np.log(2.0/l**2)\n",
    "gamma_y = 0.8*np.log(2.0/l**2)\n",
    "\n",
    "\n",
    "x2d, y2d = np.meshgrid(x, y)\n",
    "xy = np.zeros((len(x)*len(y),2))\n",
    "for i in range(len(x)):\n",
    "    for j in range(len(y)):\n",
    "        xy[i*len(y)+j,:] = x[i],y[j]\n",
    "x2d = x2d.T\n",
    "y2d = y2d.T\n",
    "\n",
    "\n",
    "Kerxy = GaussianKernel(-np.inf,sigma,np.array([gamma_x,gamma_y]))\n",
    "fxy2d_hidden = Kerxy.sample(xy).reshape((len(x),len(y)))\n",
    "\n",
    "fig = plt.figure(1,[20,10])\n",
    "ax = fig.gca(projection='3d')\n",
    "ax.plot_surface(x2d, y2d, fxy2d_hidden, alpha=0.4,cmap=cm.RdBu_r)\n",
    "cset = ax.contourf(x2d, y2d, fxy2d_hidden, zdir='z', offset=np.min(fxy2d_hidden), cmap=cm.RdBu_r)"
   ]
  },
  {
   "cell_type": "markdown",
   "metadata": {},
   "source": [
    "# Sympy"
   ]
  },
  {
   "cell_type": "code",
   "execution_count": null,
   "metadata": {
    "collapsed": true
   },
   "outputs": [],
   "source": [
    "%matplotlib inline\n",
    "import sympy as sy\n",
    "import seaborn as sb\n",
    "import matplotlib.pyplot as plt\n",
    "from IPython.display import display\n",
    "\n",
    "from sympy import init_printing\n",
    "from sympy import symbols,diff,log,sign,Abs\n",
    "from sympy.plotting import plot\n",
    "\n",
    "init_printing() \n",
    "plt.rcParams['figure.figsize'] = (20, 10)\n",
    "#init_session(quiet=True)\n",
    "\n",
    "x,y = symbols('x,y',real=True)\n",
    "\n"
   ]
  },
  {
   "cell_type": "code",
   "execution_count": null,
   "metadata": {
    "collapsed": true
   },
   "outputs": [],
   "source": [
    "phi = sign(x)*log(Abs(x))\n",
    "dphi = diff(phi,x)\n",
    "phi_1 = sy.solve(phi-y,x,domain=sy.S.Reals)"
   ]
  },
  {
   "cell_type": "code",
   "execution_count": null,
   "metadata": {
    "collapsed": true
   },
   "outputs": [],
   "source": [
    "display(phi)\n",
    "display(dphi)\n",
    "display(phi_1)"
   ]
  },
  {
   "cell_type": "code",
   "execution_count": null,
   "metadata": {
    "collapsed": true
   },
   "outputs": [],
   "source": [
    "plot(phi,(x,-2,2))"
   ]
  },
  {
   "cell_type": "code",
   "execution_count": null,
   "metadata": {
    "collapsed": true
   },
   "outputs": [],
   "source": [
    "plot(dphi,(x,-2,2))"
   ]
  },
  {
   "cell_type": "markdown",
   "metadata": {},
   "source": [
    "# Widgets"
   ]
  },
  {
   "cell_type": "code",
   "execution_count": null,
   "metadata": {
    "collapsed": true
   },
   "outputs": [],
   "source": [
    "tgp.widget_params()"
   ]
  },
  {
   "cell_type": "markdown",
   "metadata": {},
   "source": [
    "# Traces"
   ]
  },
  {
   "cell_type": "code",
   "execution_count": null,
   "metadata": {
    "collapsed": true
   },
   "outputs": [],
   "source": [
    "traces = tgp.sample_hypers(start=tgp.get_params(), samples=5000,advi=False)\n",
    "g3.save_trace(traces)\n",
    "g3.style_seaborn()\n",
    "traces.varnames.clear()\n",
    "for v in gp.model.vars:\n",
    "    traces.varnames.append(v.name)\n",
    "traces.varnames\n",
    "g3.traceplot(traces)\n",
    "datatraces = g3.datatrace(model, traces)\n",
    "datatraces.describe().T\n",
    "\n",
    "items_ll = ['niter','ll']\n",
    "items_mt = ['TGP_Bias_Constant','TGP_BoxCoxShifted_shift','TGP_SE_ARD_L2_Scales']\n",
    "items_k = ['TGP_BoxCoxShifted_power', 'TGP_Noise_Var','TGP_SE_Var']\n",
    "\n",
    "g3.plot_datatrace(datatraces,items_mt+items_k)\n",
    "g3.plot_datatrace(datatraces,items_ll+items_mt)\n",
    "g3.plot_datatrace(datatraces,items_ll+items_k)\n",
    "\n",
    "g3.style_seaborn()\n",
    "tgp.widget_trace(traces)\n",
    "tgp.plot_tgp(tgp.get_params(), samples=15)"
   ]
  },
  {
   "cell_type": "code",
   "execution_count": null,
   "metadata": {
    "collapsed": true
   },
   "outputs": [],
   "source": [
    "items_ll = ['niter','ll']\n",
    "items_k1 = ['GP_SM1_M','GP_SM1_S_log_','GP_SM1_Var_log_']\n",
    "items_k2 = ['GP_SM3_M','GP_SM2_S_log_','GP_SM2_Var_log_']\n",
    "items_m = ['GP_Bias_Constant','GP_Noise_Var_log_']\n",
    "\n",
    "g3.plot_datatrace(datatraces,items_ll+items_k1)\n",
    "g3.plot_datatrace(datatraces,items_ll+items_k2)\n",
    "g3.plot_datatrace(datatraces,items_ll+items_m)\n",
    "\n",
    "\n",
    "g3.plot_datatrace(datatraces,items_k1+items_k2)\n",
    "g3.plot_datatrace(datatraces,items_k1+items_m)\n",
    "g3.plot_datatrace(datatraces,items_k2+items_m)\n",
    "\n"
   ]
  },
  {
   "cell_type": "code",
   "execution_count": null,
   "metadata": {
    "collapsed": true
   },
   "outputs": [],
   "source": [
    "tgp.widget_trace(traces)\n",
    "tgp.plot_tgp(tgp.get_params(), samples=10)"
   ]
  },
  {
   "cell_type": "code",
   "execution_count": null,
   "metadata": {
    "collapsed": true
   },
   "outputs": [],
   "source": []
  },
  {
   "cell_type": "code",
   "execution_count": null,
   "metadata": {
    "collapsed": true
   },
   "outputs": [],
   "source": []
  }
 ],
 "metadata": {
  "anaconda-cloud": {},
  "kernelspec": {
   "display_name": "Python [default]",
   "language": "python",
   "name": "python3"
  },
  "language_info": {
   "codemirror_mode": {
    "name": "ipython",
    "version": 3
   },
   "file_extension": ".py",
   "mimetype": "text/x-python",
   "name": "python",
   "nbconvert_exporter": "python",
   "pygments_lexer": "ipython3",
   "version": "3.5.2"
  }
 },
 "nbformat": 4,
 "nbformat_minor": 1
}
